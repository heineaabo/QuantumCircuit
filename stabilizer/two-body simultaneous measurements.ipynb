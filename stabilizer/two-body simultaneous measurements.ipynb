{
 "cells": [
  {
   "cell_type": "code",
   "execution_count": 17,
   "metadata": {},
   "outputs": [],
   "source": [
    "import numpy as np\n",
    "import pandas as pd"
   ]
  },
  {
   "cell_type": "code",
   "execution_count": 18,
   "metadata": {},
   "outputs": [],
   "source": [
    "# Load gates\n",
    "x = np.array([[0,1],[1,0]])\n",
    "y = np.array([[0,-1j],[1j,0]])\n",
    "z = np.array([[1,0],[0,-1]])\n",
    "\n",
    "h = np.sqrt(0.5)*np.array([[1,1],[1,-1]])\n",
    "s = np.array([[1,0],[0,1j]])\n",
    "I = np.eye(2)\n",
    "\n",
    "cx = np.array([[1,0,0,0],[0,1,0,0],[0,0,0,1],[0,0,1,0]])\n",
    "cz = np.array([[1,0,0,0],[0,1,0,0],[0,0,1,0],[0,0,0,-1]])\n",
    "swap = np.array([[1,0,0,0],[0,0,1,0],[0,1,0,0],[0,0,0,1]])"
   ]
  },
  {
   "cell_type": "code",
   "execution_count": 19,
   "metadata": {},
   "outputs": [],
   "source": [
    "# MatMul and Tensor function\n",
    "def mult(*ops):\n",
    "    mat = ops[0]\n",
    "    for op in ops[1:]:\n",
    "        mat = np.matmul(mat,op)\n",
    "    return mat\n",
    "\n",
    "def tensor(*ops):\n",
    "    tnsr = ops[0]\n",
    "    for op in ops[1:]:\n",
    "        tnsr = np.kron(tnsr,op)\n",
    "    return tnsr"
   ]
  },
  {
   "cell_type": "code",
   "execution_count": 20,
   "metadata": {},
   "outputs": [],
   "source": [
    "xxxx = tensor(x,x,x,x)\n",
    "xxyy = tensor(x,x,y,y)\n",
    "xyxy = tensor(x,y,x,y)\n",
    "yxxy = tensor(y,x,x,y)\n",
    "\n",
    "yyyy = tensor(y,y,y,y)\n",
    "yyxx = tensor(y,y,x,x)\n",
    "yxyx = tensor(y,x,y,x)\n",
    "xyyx = tensor(x,y,y,x)"
   ]
  },
  {
   "cell_type": "code",
   "execution_count": 21,
   "metadata": {},
   "outputs": [],
   "source": [
    "states = [[0,0,0,0],[0,0,0,1],[0,0,1,0],[0,0,1,1],\n",
    "          [0,1,0,0],[0,1,0,1],[0,1,1,0],[0,1,1,1],\n",
    "          [1,0,0,0],[1,0,0,1],[1,0,1,0],[1,0,1,1],\n",
    "          [1,1,0,0],[1,1,0,1],[1,1,1,0],[1,1,1,1]]\n",
    "\n",
    "cb = np.eye(16)\n",
    "\n",
    "def test_prod(op):\n",
    "    for i in range(16):\n",
    "        new = op@cb[i]\n",
    "        ind = np.where(new == 1)\n",
    "        assert len(ind) == 1\n",
    "        val = ''\n",
    "        if states[i] != states[ind[0][0]]:\n",
    "            val = 'X'\n",
    "        print(states[i],'->',states[ind[0][0]],val)"
   ]
  },
  {
   "cell_type": "code",
   "execution_count": 6,
   "metadata": {},
   "outputs": [],
   "source": [
    "i = tensor(I,h,h,h)\n",
    "ii = tensor(I,swap,I)\n",
    "iii = mult(tensor(I,swap,I),\n",
    "           tensor(I,I,cx),\n",
    "           tensor(I,swap,I))\n",
    "iv = tensor(I,I,cx)\n",
    "v = mult(tensor(I,I,swap),tensor(I,swap,I),tensor(swap,I,I),\n",
    "         tensor(cx,I,I),\n",
    "         tensor(swap,I,I),tensor(I,swap,I),tensor(I,I,swap))\n",
    "vi = mult(tensor(I,swap,I),tensor(swap,I,I),\n",
    "          tensor(cx,I,I),\n",
    "          tensor(swap,I,I),tensor(I,swap,I))\n",
    "vii = mult(tensor(swap,I,I),tensor(cx,I,I),tensor(swap,I,I))\n",
    "viii = mult(tensor(I,I,swap),tensor(I,swap,I),tensor(swap,I,I),\n",
    "            tensor(cz,I,I),\n",
    "            tensor(swap,I,I),tensor(I,swap,I),tensor(I,I,swap))\n",
    "ix = mult(tensor(I,swap,I),\n",
    "           tensor(I,I,cz),\n",
    "           tensor(I,swap,I))\n",
    "x = tensor(I,I,cz)\n",
    "xi = tensor(h,h,h,h)\n",
    "\n",
    "U = mult(i,ii,iii,iv,v,vi,vii,viii,ix,x,xi)\n",
    "U[np.abs(U) < 1e-16] = 0\n",
    "#print(U)\n"
   ]
  },
  {
   "cell_type": "code",
   "execution_count": 8,
   "metadata": {},
   "outputs": [
    {
     "name": "stdout",
     "output_type": "stream",
     "text": [
      "0 : yes\n",
      "1 : yes\n",
      "2 : yes\n",
      "3 : yes\n",
      "4 : yes\n",
      "5 : yes\n",
      "6 : yes\n",
      "7 : yes\n",
      "8 : yes\n",
      "9 : yes\n",
      "10 : yes\n",
      "11 : yes\n",
      "12 : yes\n",
      "13 : yes\n",
      "14 : yes\n",
      "15 : yes\n"
     ]
    }
   ],
   "source": [
    "for b in range(16):\n",
    "    if np.sum(np.equal(U[:,b],np.matmul(yyyy,U[:,b]))):\n",
    "        print(b,': yes')"
   ]
  },
  {
   "cell_type": "code",
   "execution_count": 72,
   "metadata": {},
   "outputs": [],
   "source": [
    "a = tensor(h,h,h,I)\n",
    "b = mult(tensor(swap,I,I),tensor(I,swap,I),\n",
    "           tensor(I,I,cx),\n",
    "           tensor(I,swap,I),tensor(swap,I,I))\n",
    "c = mult(tensor(I,swap,I),\n",
    "           tensor(I,I,cx),\n",
    "           tensor(I,swap,I))\n",
    "d = tensor(I,I,cx)\n",
    "e = mult(tensor(swap,I,I),tensor(I,swap,I),\n",
    "           tensor(I,I,cz),\n",
    "           tensor(I,swap,I),tensor(swap,I,I))\n",
    "f = mult(tensor(I,swap,I),\n",
    "           tensor(I,I,cz),\n",
    "           tensor(I,swap,I))\n",
    "g = tensor(I,I,cz)\n",
    "had = tensor(h,h,h,h)\n",
    "sw1 = mult(tensor(swap,swap),tensor(I,swap,I),tensor(swap,swap))\n",
    "sw2 = tensor(I,swap,I)\n",
    "altU = mult(a,b,c,d,e,f,g,had) #,sw1,sw2)\n",
    "altU[np.abs(altU) < 1e-16] = 0"
   ]
  },
  {
   "cell_type": "markdown",
   "metadata": {},
   "source": [
    "### Make dataframe\n"
   ]
  },
  {
   "cell_type": "code",
   "execution_count": 73,
   "metadata": {},
   "outputs": [],
   "source": [
    "def get_eigvals(op,U,rounder=4):\n",
    "    n = int(np.log2(op.shape[0]))\n",
    "    eigvals = []\n",
    "    for i in range(2**n):\n",
    "        A = U[:,i]\n",
    "        B = np.matmul(op,U[:,i])\n",
    "        A = np.round(A,rounder)\n",
    "        B = np.round(B,rounder)\n",
    "        p = 0\n",
    "        m = 0\n",
    "        for o1,o2 in zip(A,B):\n",
    "            if np.equal(o1,0) and np.equal(o2,0):\n",
    "                p += 1\n",
    "                m += 1\n",
    "            elif np.equal(o1,o2):\n",
    "                p += 1\n",
    "            elif o1 == -o2:\n",
    "                m += 1\n",
    "        if p == len(U[:,i]):\n",
    "            #print('{}{}{}{}'.format(*states[i]),': +')\n",
    "            eigvals.append('+1')\n",
    "        elif m == len(U[:,i]):\n",
    "            #print('{}{}{}{}'.format(*states[i]),': -')\n",
    "            eigvals.append('-1')\n",
    "        #else:\n",
    "        #    print('This is no eigenvalue')\n",
    "    return eigvals"
   ]
  },
  {
   "cell_type": "code",
   "execution_count": 74,
   "metadata": {},
   "outputs": [],
   "source": [
    "index = ['{}{}{}{}'.format(*states[i]) for i in range(16)]\n",
    "ops = [xxxx,xxyy,xyxy,yxxy,yyyy,yyxx,yxyx,xyyx]\n",
    "strs = ['xxxx','xxyy','xyxy','yxxy','yyyy','yyxx','yxyx','xyyx']\n",
    "data = {}\n",
    "alt_data = {}\n",
    "for o,s in zip(ops,strs):\n",
    "    data[s] = get_eigvals(o,U)\n",
    "    alt_data[s] = get_eigvals(o,altU)"
   ]
  },
  {
   "cell_type": "code",
   "execution_count": 75,
   "metadata": {},
   "outputs": [],
   "source": [
    "two_body = pd.DataFrame(data,columns=strs,index=index)\n",
    "alt_two_body = pd.DataFrame(alt_data,columns=strs,index=index)"
   ]
  },
  {
   "cell_type": "code",
   "execution_count": 78,
   "metadata": {},
   "outputs": [
    {
     "name": "stdout",
     "output_type": "stream",
     "text": [
      "     xxxx xxyy xyxy yxxy yyyy yyxx yxyx xyyx\n",
      "0000   +1   -1   -1   +1   -1   +1   +1   -1\n",
      "0001   +1   -1   -1   -1   +1   -1   -1   -1\n",
      "0010   +1   -1   +1   +1   +1   -1   +1   +1\n",
      "0011   +1   -1   +1   -1   -1   +1   -1   +1\n",
      "0100   +1   +1   -1   +1   +1   +1   -1   +1\n",
      "0101   +1   +1   -1   -1   -1   -1   +1   +1\n",
      "0110   +1   +1   +1   +1   -1   -1   -1   -1\n",
      "0111   +1   +1   +1   -1   +1   +1   +1   -1\n",
      "1000   -1   -1   -1   +1   -1   -1   -1   +1\n",
      "1001   -1   -1   -1   -1   +1   +1   +1   +1\n",
      "1010   -1   -1   +1   +1   +1   +1   -1   -1\n",
      "1011   -1   -1   +1   -1   -1   -1   +1   -1\n",
      "1100   -1   +1   -1   +1   +1   -1   +1   -1\n",
      "1101   -1   +1   -1   -1   -1   +1   -1   -1\n",
      "1110   -1   +1   +1   +1   -1   +1   +1   +1\n",
      "1111   -1   +1   +1   -1   +1   -1   -1   +1\n",
      "     xxxx xxyy xyxy yxxy yyyy yyxx yxyx xyyx\n",
      "0000   +1   +1   +1   +1   -1   -1   -1   -1\n",
      "0001   -1   +1   +1   +1   -1   +1   +1   +1\n",
      "0010   +1   -1   +1   +1   +1   -1   +1   +1\n",
      "0011   -1   -1   +1   +1   +1   +1   -1   -1\n",
      "0100   +1   +1   -1   +1   +1   +1   -1   +1\n",
      "0101   -1   +1   -1   +1   +1   -1   +1   -1\n",
      "0110   +1   -1   -1   +1   -1   +1   +1   -1\n",
      "0111   -1   -1   -1   +1   -1   -1   -1   +1\n",
      "1000   +1   +1   +1   -1   +1   +1   +1   -1\n",
      "1001   -1   +1   +1   -1   +1   -1   -1   +1\n",
      "1010   +1   -1   +1   -1   -1   +1   -1   +1\n",
      "1011   -1   -1   +1   -1   -1   -1   +1   -1\n",
      "1100   +1   +1   -1   -1   -1   -1   +1   +1\n",
      "1101   -1   +1   -1   -1   -1   +1   -1   -1\n",
      "1110   +1   -1   -1   -1   +1   -1   -1   -1\n",
      "1111   -1   -1   -1   -1   +1   +1   +1   +1\n"
     ]
    }
   ],
   "source": [
    "#print(two_body.to_latex())\n",
    "#print(alt_two_body.to_latex())\n",
    "print(two_body)\n",
    "print(alt_two_body)"
   ]
  },
  {
   "cell_type": "markdown",
   "metadata": {},
   "source": [
    "xxxx -> 1. qubit\n",
    "\n",
    "xxyy -> 2. qubit\n",
    "\n",
    "xyxy -> 3. qubit\n",
    "\n",
    "yxxy -> 4. qubit\n",
    "\n",
    "yyyy -> Reversed parity except 1. qubit\n",
    "\n",
    "yyxx -> Parity except 2. qubit\n",
    "\n",
    "yxyx -> Parity except 3. qubit\n",
    "\n",
    "xyyx -> Reversed parity except 4. qubit\n"
   ]
  },
  {
   "cell_type": "code",
   "execution_count": 28,
   "metadata": {},
   "outputs": [],
   "source": [
    "y = tensor(I,x,y)\n",
    "zzz = tensor(z,z,z)\n",
    "xix = tensor(x,I,x)\n",
    "zxy = tensor(z,x,y)"
   ]
  },
  {
   "cell_type": "code",
   "execution_count": 29,
   "metadata": {},
   "outputs": [],
   "source": [
    "a = tensor(h,cx)\n",
    "b = tensor(swap,I)\n",
    "c = tensor(s,cz)\n",
    "d = tensor(h,h,h)\n",
    "U3 = mult(a,b,c,d)"
   ]
  },
  {
   "cell_type": "code",
   "execution_count": 23,
   "metadata": {},
   "outputs": [
    {
     "data": {
      "text/plain": [
       "array([[ 0.5+0.j ,  0.5+0.j ,  0. +0.j ,  0. +0.j ,  0.5+0.j ,  0.5+0.j ,\n",
       "         0. +0.j ,  0. +0.j ],\n",
       "       [ 0. +0.j ,  0. +0.j ,  0.5+0.j , -0.5+0.j ,  0. +0.j ,  0. +0.j ,\n",
       "         0.5+0.j , -0.5+0.j ],\n",
       "       [ 0. +0.j ,  0. +0.j ,  0. +0.5j,  0. -0.5j,  0. +0.j ,  0. +0.j ,\n",
       "         0. -0.5j,  0. +0.5j],\n",
       "       [ 0. +0.5j,  0. +0.5j,  0. +0.j ,  0. +0.j ,  0. -0.5j,  0. -0.5j,\n",
       "         0. +0.j ,  0. +0.j ],\n",
       "       [ 0. +0.j ,  0. +0.j ,  0.5+0.j ,  0.5+0.j ,  0. +0.j ,  0. +0.j ,\n",
       "         0.5+0.j ,  0.5+0.j ],\n",
       "       [ 0.5+0.j , -0.5+0.j ,  0. +0.j ,  0. +0.j ,  0.5+0.j , -0.5+0.j ,\n",
       "         0. +0.j ,  0. +0.j ],\n",
       "       [ 0. +0.5j,  0. -0.5j,  0. +0.j ,  0. +0.j ,  0. -0.5j,  0. +0.5j,\n",
       "         0. +0.j ,  0. +0.j ],\n",
       "       [ 0. +0.j ,  0. +0.j ,  0. +0.5j,  0. +0.5j,  0. +0.j ,  0. +0.j ,\n",
       "         0. -0.5j,  0. -0.5j]])"
      ]
     },
     "execution_count": 23,
     "metadata": {},
     "output_type": "execute_result"
    }
   ],
   "source": [
    "U3"
   ]
  },
  {
   "cell_type": "code",
   "execution_count": 38,
   "metadata": {},
   "outputs": [],
   "source": [
    "for i in range(2**3):\n",
    "    A = U3[:,i]\n",
    "    B = np.matmul(ixy,U3[:,i])\n",
    "    A = np.round(A,4)\n",
    "    B = np.round(B,4)\n",
    "    p = 0\n",
    "    m = 0\n",
    "    for o1,o2 in zip(A,B):\n",
    "        if np.equal(o1,0) and np.equal(o2,0):\n",
    "            p += 1\n",
    "            m += 1\n",
    "        elif np.equal(o1,o2):\n",
    "            p += 1\n",
    "        elif o1 == -o2:\n",
    "            m += 1\n",
    "    #if np.sum(np.equal(A,B)) == len(U3[:,i]):\n",
    "    if p == len(U3[:,i]):\n",
    "        print(i,': +')\n",
    "    #if np.sum(np.equal(A,-B)) == len(U3[:,i]):\n",
    "    elif m == len(U3[:,i]):\n",
    "        print(i,': -')\n",
    "    #for m1,m2 in zip(A,B):\n",
    "    #    boo = ' '\n",
    "    #    if m1 != m2:\n",
    "    #        boo = 'X'\n",
    "    #    if m1 == -m2:\n",
    "    #        boo = 'V'\n",
    "    #    print(boo,round(m1,4),round(m2,4))"
   ]
  },
  {
   "cell_type": "code",
   "execution_count": null,
   "metadata": {},
   "outputs": [],
   "source": []
  },
  {
   "cell_type": "code",
   "execution_count": null,
   "metadata": {},
   "outputs": [],
   "source": []
  },
  {
   "cell_type": "markdown",
   "metadata": {},
   "source": [
    "# XX ZZ YY"
   ]
  },
  {
   "cell_type": "code",
   "execution_count": 7,
   "metadata": {},
   "outputs": [],
   "source": [
    "xx = tensor(x,x)\n",
    "yy = tensor(y,y)\n",
    "zz = tensor(z,z)\n",
    "\n",
    "U2 = mult(cx,tensor(h,I))"
   ]
  },
  {
   "cell_type": "code",
   "execution_count": 24,
   "metadata": {},
   "outputs": [],
   "source": [
    "def test_basis(op,U,rounder=4):\n",
    "    n = int(np.log2(op.shape[0]))\n",
    "    for i in range(2**n):\n",
    "        A = U[:,i]\n",
    "        B = np.matmul(op,U[:,i])\n",
    "        A = np.round(A,rounder)\n",
    "        B = np.round(B,rounder)\n",
    "        p = 0\n",
    "        m = 0\n",
    "        for o1,o2 in zip(A,B):\n",
    "            if np.equal(o1,0) and np.equal(o2,0):\n",
    "                p += 1\n",
    "                m += 1\n",
    "            elif np.equal(o1,o2):\n",
    "                p += 1\n",
    "            elif o1 == -o2:\n",
    "                m += 1\n",
    "        if p == len(U[:,i]):\n",
    "            #print(i,': +')\n",
    "            print('{}{}{}{}'.format(*states[i]),': +')\n",
    "        elif m == len(U[:,i]):\n",
    "            #print(i,': -')\n",
    "            print('{}{}{}{}'.format(*states[i]),': -')"
   ]
  },
  {
   "cell_type": "code",
   "execution_count": 26,
   "metadata": {},
   "outputs": [
    {
     "name": "stdout",
     "output_type": "stream",
     "text": [
      "0000 : +\n",
      "0001 : -\n",
      "0010 : +\n",
      "0011 : -\n",
      "0100 : -\n",
      "0101 : +\n",
      "0110 : -\n",
      "0111 : +\n",
      "1000 : -\n",
      "1001 : +\n",
      "1010 : -\n",
      "1011 : +\n",
      "1100 : +\n",
      "1101 : -\n",
      "1110 : +\n",
      "1111 : -\n"
     ]
    }
   ],
   "source": [
    "test_basis(yxyx,U)"
   ]
  },
  {
   "cell_type": "code",
   "execution_count": null,
   "metadata": {},
   "outputs": [],
   "source": []
  },
  {
   "cell_type": "markdown",
   "metadata": {},
   "source": [
    "# "
   ]
  },
  {
   "cell_type": "code",
   "execution_count": 203,
   "metadata": {},
   "outputs": [],
   "source": [
    "def com_mes(res):\n",
    "    expval = [0,0,0]\n",
    "    for state,val in res.items():\n",
    "        e = [1,1,1]\n",
    "        state = state[::-1]\n",
    "        if state[0] == '1':\n",
    "            e[0] *= -1\n",
    "        if state[1] == '1':\n",
    "            e[1] *= -1\n",
    "        if sum([int(state[0]),int(state[1])])%2 == 1:\n",
    "            e[2] *= -1\n",
    "        for i in range(3):\n",
    "            expval[i] += e[i]*val\n",
    "        #print(state,e,val)\n",
    "    return expval\n",
    "        \n",
    "def sgl_mes(res):\n",
    "    expval = 0\n",
    "    for state,val in res.items():\n",
    "        state = state[::-1]\n",
    "        e = 1\n",
    "        for i in state:\n",
    "            if i == '1':\n",
    "                e *= -1\n",
    "        expval += e*val\n",
    "    return expval"
   ]
  },
  {
   "cell_type": "code",
   "execution_count": 204,
   "metadata": {},
   "outputs": [
    {
     "name": "stdout",
     "output_type": "stream",
     "text": [
      "[-4, 4, -24]\n",
      "4 -4 -24\n"
     ]
    }
   ],
   "source": [
    "print(com_mes(gc1))\n",
    "print(sgl_mes(x1),sgl_mes(z1),sgl_mes(y1))"
   ]
  },
  {
   "cell_type": "code",
   "execution_count": 206,
   "metadata": {},
   "outputs": [
    {
     "name": "stdout",
     "output_type": "stream",
     "text": [
      "[-4, -1000, 4]\n",
      "-24 -1000 -24\n"
     ]
    }
   ],
   "source": [
    "print(com_mes(gc2))\n",
    "print(sgl_mes(x2),sgl_mes(z2),sgl_mes(y2))"
   ]
  },
  {
   "cell_type": "code",
   "execution_count": 207,
   "metadata": {},
   "outputs": [
    {
     "name": "stdout",
     "output_type": "stream",
     "text": [
      "[-4, -1000, 4]\n",
      "-24 -1000 -24\n"
     ]
    }
   ],
   "source": [
    "print(com_mes(gc3))\n",
    "print(sgl_mes(x3),sgl_mes(z3),sgl_mes(y3))"
   ]
  },
  {
   "cell_type": "code",
   "execution_count": 321,
   "metadata": {},
   "outputs": [],
   "source": [
    "def get_sngl(res):\n",
    "    a = res['00'] if res.get('00') != None else 0\n",
    "    b = res['10'] if res.get('10') != None else 0\n",
    "    c = res['01'] if res.get('01') != None else 0\n",
    "    d = res['11'] if res.get('11') != None else 0\n",
    "    return (a+d)-(b+c)\n",
    "\n",
    "def get_gc_x(res):\n",
    "    a = res['00'] if res.get('00') != None else 0\n",
    "    b = res['10'] if res.get('10') != None else 0\n",
    "    c = res['01'] if res.get('01') != None else 0\n",
    "    d = res['11'] if res.get('11') != None else 0\n",
    "    return a-b+c-d#(a-b)+(d-c)\n",
    "\n",
    "def get_gc_y(res):\n",
    "    a = res['00'] if res.get('00') != None else 0\n",
    "    b = res['10'] if res.get('10') != None else 0\n",
    "    c = res['01'] if res.get('01') != None else 0\n",
    "    d = res['11'] if res.get('11') != None else 0\n",
    "    return (a+d)-(b+c)\n",
    "\n",
    "def get_gc_z(res):\n",
    "    a = res['00'] if res.get('00') != None else 0\n",
    "    b = res['10'] if res.get('10') != None else 0\n",
    "    c = res['01'] if res.get('01') != None else 0\n",
    "    d = res['11'] if res.get('11') != None else 0\n",
    "    return (a+d)-(b+c)"
   ]
  },
  {
   "cell_type": "code",
   "execution_count": 322,
   "metadata": {},
   "outputs": [
    {
     "name": "stdout",
     "output_type": "stream",
     "text": [
      "[-4, 4, -24]\n",
      "4 -4 -24\n",
      "-24 -24 -24\n"
     ]
    }
   ],
   "source": [
    "x1 = {'10': 498, '00': 502}\n",
    "y1 = {'00': 244, '11': 244, '01': 258, '10': 254}\n",
    "z1 = {'01': 502, '00': 498}\n",
    "\n",
    "gc1 = {'01': 258, '10': 254, '00': 244, '11': 244}\n",
    "\n",
    "print(com_mes(gc1))\n",
    "print(sgl_mes(x1),sgl_mes(z1),sgl_mes(y1))\n",
    "\n",
    "print(get_gc_x(gc1),get_gc_z(gc1),get_gc_y(gc1))"
   ]
  },
  {
   "cell_type": "code",
   "execution_count": 307,
   "metadata": {},
   "outputs": [
    {
     "name": "stdout",
     "output_type": "stream",
     "text": [
      "[-4, -1000, 4]\n",
      "-24 -1000 -24\n",
      "-1000 4 -24\n"
     ]
    }
   ],
   "source": [
    "x2 = {'10': 254, '01': 258, '11': 244, '00': 244}\n",
    "y2 = {'10': 254, '01': 258, '11': 244, '00': 244}\n",
    "z2 = {'01': 1000}\n",
    "\n",
    "gc2 = {'10': 498, '11': 502}\n",
    "\n",
    "print(com_mes(gc2))\n",
    "print(sgl_mes(x2),sgl_mes(z2),sgl_mes(y2))\n",
    "\n",
    "print(get_gc_x(gc2),get_gc_z(gc2),get_gc_y(gc))"
   ]
  },
  {
   "cell_type": "code",
   "execution_count": 288,
   "metadata": {},
   "outputs": [
    {
     "name": "stdout",
     "output_type": "stream",
     "text": [
      "[-4, -1000, 4]\n",
      "-24 -1000 -24\n",
      "-4 4 4\n"
     ]
    }
   ],
   "source": [
    "x3 = {'10': 254, '00': 244, '01': 258, '11': 244}\n",
    "y3 = {'10': 254, '00': 244, '01': 258, '11': 244}\n",
    "z3 = {'10': 1000}\n",
    "\n",
    "gc3 = {'10': 498, '11': 502}\n",
    "\n",
    "print(com_mes(gc3))\n",
    "print(sgl_mes(x3),sgl_mes(z3),sgl_mes(y3))\n",
    "\n",
    "print(get_gc_x(gc3),get_gc_z(gc3),get_gc_y(gc3))"
   ]
  },
  {
   "cell_type": "code",
   "execution_count": 289,
   "metadata": {},
   "outputs": [
    {
     "name": "stdout",
     "output_type": "stream",
     "text": [
      "[-4, 4, -24]\n",
      "4 -4 -24\n",
      "-4 -24 -24\n"
     ]
    }
   ],
   "source": [
    "x4 =  {'10': 498, '11': 502}\n",
    "y4 = {'01': 258, '10': 254, '11': 244, '00': 244}\n",
    "z4 = {'01': 502, '11': 498}\n",
    "\n",
    "gc4 = {'01': 258, '10': 254, '11': 244, '00': 244}\n",
    "\n",
    "print(com_mes(gc4))\n",
    "print(sgl_mes(x4),sgl_mes(z4),sgl_mes(y4))\n",
    "\n",
    "print(get_gc_x(gc4),get_gc_z(gc4),get_gc_y(gc4))"
   ]
  },
  {
   "cell_type": "code",
   "execution_count": 290,
   "metadata": {},
   "outputs": [
    {
     "name": "stdout",
     "output_type": "stream",
     "text": [
      "[20, 196, 12]\n",
      "40 186 -42\n",
      "20 12 12\n"
     ]
    }
   ],
   "source": [
    "x5 = {'01': 8, '00': 510, '11': 10, '10': 472}\n",
    "y5 = {'01': 61, '00': 47, '11': 432, '10': 460}\n",
    "z5 = {'01': 278, '00': 513, '11': 80, '10': 129}\n",
    "\n",
    "gc5 = {'01': 291, '00': 307, '11': 199, '10': 203}\n",
    "\n",
    "print(com_mes(gc5))\n",
    "print(sgl_mes(x5),sgl_mes(z5),sgl_mes(y5))\n",
    "\n",
    "print(get_gc_x(gc5),get_gc_z(gc5),get_gc_y(gc5))"
   ]
  },
  {
   "cell_type": "code",
   "execution_count": 308,
   "metadata": {},
   "outputs": [
    {
     "name": "stdout",
     "output_type": "stream",
     "text": [
      "[726, 422, 588]\n",
      "136 186 -484\n",
      "422 588 588\n"
     ]
    }
   ],
   "source": [
    "x6 = {'00': 513, '10': 348, '01':  84, '11':  55}\n",
    "y6 = {'00':  97, '10': 724, '01':  18, '11': 161}\n",
    "z6 = {'00': 513, '10': 129, '01': 278, '11':  80}\n",
    "\n",
    "#gc6 = {'00': 455, '10': 97, '01': 143, '11': 305}\n",
    "gc6 = {'00': 684, '10': 179, '01': 27, '11': 110}\n",
    "\n",
    "print(com_mes(gc6)) \n",
    "print(sgl_mes(x6),sgl_mes(z6),sgl_mes(y6))\n",
    "\n",
    "print(get_gc_x(gc6),get_gc_z(gc6),get_gc_y(gc6))"
   ]
  },
  {
   "cell_type": "code",
   "execution_count": 325,
   "metadata": {},
   "outputs": [
    {
     "name": "stdout",
     "output_type": "stream",
     "text": [
      "1000\n",
      "642\n",
      "946\n",
      "780\n",
      "588\n",
      "422\n",
      "726\n",
      "368\n",
      "-368\n",
      "-726\n",
      "-422\n",
      "-588\n",
      "-780\n",
      "-946\n",
      "-642\n",
      "-1000\n"
     ]
    }
   ],
   "source": [
    "print(+684 + 179 + 27 + 110)\n",
    "print(+684 - 179 + 27 + 110)\n",
    "print(+684 + 179 - 27 + 110)\n",
    "print(+684 + 179 + 27 - 110)\n",
    "print(+684 - 179 - 27 + 110)\n",
    "print(+684 - 179 + 27 - 110)\n",
    "print(+684 + 179 - 27 - 110)\n",
    "print(+684 - 179 - 27 - 110)\n",
    "print(-684 + 179 + 27 + 110)\n",
    "print(-684 - 179 + 27 + 110)\n",
    "print(-684 + 179 - 27 + 110)\n",
    "print(-684 + 179 + 27 - 110)\n",
    "print(-684 - 179 - 27 + 110)\n",
    "print(-684 - 179 + 27 - 110)\n",
    "print(-684 + 179 - 27 - 110)\n",
    "print(-684 - 179 - 27 - 110)"
   ]
  },
  {
   "cell_type": "code",
   "execution_count": 326,
   "metadata": {},
   "outputs": [
    {
     "name": "stdout",
     "output_type": "stream",
     "text": [
      "[40, 138, -18]\n",
      "186 108 186\n",
      "-18 -18 -18\n"
     ]
    }
   ],
   "source": [
    "x6 = {'10': 268, '01': 139, '11': 503, '00': 90}\n",
    "y6 = {'10': 268, '01': 139, '11': 503, '00': 90}\n",
    "z6 = {'10': 144, '01': 302, '11': 70, '00': 484}\n",
    "\n",
    "gc6 = {'10': 230, '01': 279, '11': 201, '00': 290}\n",
    "\n",
    "print(com_mes(gc6)) \n",
    "print(sgl_mes(x6),sgl_mes(z6),sgl_mes(y6))\n",
    "\n",
    "print(get_gc_x(gc6),get_gc_z(gc6),get_gc_y(gc6))"
   ]
  },
  {
   "cell_type": "code",
   "execution_count": 331,
   "metadata": {},
   "outputs": [
    {
     "data": {
      "text/plain": [
       "40"
      ]
     },
     "execution_count": 331,
     "metadata": {},
     "output_type": "execute_result"
    }
   ],
   "source": [
    "230 - 279 - 201 + 290"
   ]
  },
  {
   "cell_type": "code",
   "execution_count": 9,
   "metadata": {},
   "outputs": [
    {
     "name": "stdout",
     "output_type": "stream",
     "text": [
      "[0, 0, 0, 0] [1 0 0 0 0 0 0 0 0 0 0 0 0 0 0 0]\n",
      "[0, 0, 0, 1] [0 1 0 0 0 0 0 0 0 0 0 0 0 0 0 0]\n",
      "[0, 0, 1, 0] [0 0 1 0 0 0 0 0 0 0 0 0 0 0 0 0]\n",
      "[0, 0, 1, 1] [0 0 0 1 0 0 0 0 0 0 0 0 0 0 0 0]\n",
      "[0, 1, 0, 0] [0 0 0 0 1 0 0 0 0 0 0 0 0 0 0 0]\n",
      "[0, 1, 0, 1] [0 0 0 0 0 1 0 0 0 0 0 0 0 0 0 0]\n",
      "[0, 1, 1, 0] [0 0 0 0 0 0 1 0 0 0 0 0 0 0 0 0]\n",
      "[0, 1, 1, 1] [0 0 0 0 0 0 0 1 0 0 0 0 0 0 0 0]\n",
      "[1, 0, 0, 0] [0 0 0 0 0 0 0 0 1 0 0 0 0 0 0 0]\n",
      "[1, 0, 0, 1] [0 0 0 0 0 0 0 0 0 1 0 0 0 0 0 0]\n",
      "[1, 0, 1, 0] [0 0 0 0 0 0 0 0 0 0 1 0 0 0 0 0]\n",
      "[1, 0, 1, 1] [0 0 0 0 0 0 0 0 0 0 0 1 0 0 0 0]\n",
      "[1, 1, 0, 0] [0 0 0 0 0 0 0 0 0 0 0 0 1 0 0 0]\n",
      "[1, 1, 0, 1] [0 0 0 0 0 0 0 0 0 0 0 0 0 1 0 0]\n",
      "[1, 1, 1, 0] [0 0 0 0 0 0 0 0 0 0 0 0 0 0 1 0]\n",
      "[1, 1, 1, 1] [0 0 0 0 0 0 0 0 0 0 0 0 0 0 0 1]\n"
     ]
    }
   ],
   "source": [
    "for state in states:\n",
    "    zero = np.array([1,0])\n",
    "    one = np.array([0,1])\n",
    "    if state[0] == 0:\n",
    "        a = np.array([1,0])\n",
    "    if state[0] == 1:\n",
    "        a = np.array([0,1])\n",
    "    for i in state[1:]:\n",
    "        if i == 0:\n",
    "            b = np.array([1,0])\n",
    "        if i == 1:\n",
    "            b = np.array([0,1])\n",
    "        a = np.kron(a,b)\n",
    "    print(state,a)"
   ]
  },
  {
   "cell_type": "code",
   "execution_count": null,
   "metadata": {},
   "outputs": [],
   "source": []
  },
  {
   "cell_type": "code",
   "execution_count": null,
   "metadata": {},
   "outputs": [],
   "source": []
  }
 ],
 "metadata": {
  "kernelspec": {
   "display_name": "Python 3",
   "language": "python",
   "name": "python3"
  },
  "language_info": {
   "codemirror_mode": {
    "name": "ipython",
    "version": 3
   },
   "file_extension": ".py",
   "mimetype": "text/x-python",
   "name": "python",
   "nbconvert_exporter": "python",
   "pygments_lexer": "ipython3",
   "version": "3.7.4"
  }
 },
 "nbformat": 4,
 "nbformat_minor": 2
}
