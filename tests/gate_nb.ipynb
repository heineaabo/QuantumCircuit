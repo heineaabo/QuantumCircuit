{
 "cells": [
  {
   "cell_type": "code",
   "execution_count": 1,
   "metadata": {},
   "outputs": [],
   "source": [
    "import numpy as np"
   ]
  },
  {
   "cell_type": "code",
   "execution_count": 2,
   "metadata": {},
   "outputs": [],
   "source": [
    "x = np.array([[0,1],[1,0]])\n",
    "y = np.array([[0,-1j],[1j,0]])\n",
    "z = np.array([[1,0],[0,-1]])\n",
    "c = np.array([[0,0],[1,0]])\n",
    "a = np.array([[0,1],[0,0]])\n",
    "I = np.array([[1,0],[0,1]])\n",
    "i = np.complex(0,1)\n",
    "h = np.array([[1,1],[1,-1]])*(1/np.sqrt(2))"
   ]
  },
  {
   "cell_type": "code",
   "execution_count": 3,
   "metadata": {},
   "outputs": [],
   "source": [
    "cnot = np.array([[1,0,0,0],[0,1,0,0],[0,0,0,1],[0,0,1,0]])"
   ]
  },
  {
   "cell_type": "code",
   "execution_count": 4,
   "metadata": {},
   "outputs": [],
   "source": [
    "def rev_prod(a,b):\n",
    "    return b@a\n",
    "\n",
    "def prod(a,b):\n",
    "    return a@b"
   ]
  },
  {
   "cell_type": "code",
   "execution_count": 18,
   "metadata": {},
   "outputs": [
    {
     "name": "stdout",
     "output_type": "stream",
     "text": [
      "[[0. 0.]\n",
      " [0. 1.]]\n",
      "[[1. 0.]\n",
      " [0. 0.]]\n"
     ]
    }
   ],
   "source": [
    "m = (I-z)/2\n",
    "p = (I+z)/2\n",
    "print(m)\n",
    "print(p)"
   ]
  },
  {
   "cell_type": "code",
   "execution_count": 16,
   "metadata": {},
   "outputs": [
    {
     "data": {
      "text/plain": [
       "array([[0, 0],\n",
       "       [1, 0]])"
      ]
     },
     "execution_count": 16,
     "metadata": {},
     "output_type": "execute_result"
    }
   ],
   "source": [
    "c"
   ]
  },
  {
   "cell_type": "code",
   "execution_count": 17,
   "metadata": {},
   "outputs": [
    {
     "data": {
      "text/plain": [
       "array([[0, 1],\n",
       "       [0, 0]])"
      ]
     },
     "execution_count": 17,
     "metadata": {},
     "output_type": "execute_result"
    }
   ],
   "source": [
    "a"
   ]
  },
  {
   "cell_type": "markdown",
   "metadata": {},
   "source": [
    "# Pauli gate product"
   ]
  },
  {
   "cell_type": "code",
   "execution_count": 8,
   "metadata": {},
   "outputs": [],
   "source": [
    "assert np.all(np.equal(prod(x,y),i*z))\n",
    "assert np.all(np.equal(prod(x,z),-i*y))\n",
    "\n",
    "assert np.all(np.equal(prod(y,x),-i*z))\n",
    "assert np.all(np.equal(prod(y,z),i*x))\n",
    "\n",
    "assert np.all(np.equal(prod(z,x),i*y))\n",
    "assert np.all(np.equal(prod(z,y),-i*x))"
   ]
  },
  {
   "cell_type": "code",
   "execution_count": 9,
   "metadata": {},
   "outputs": [],
   "source": [
    "assert np.all(np.equal(rev_prod(x,y),-i*z))\n",
    "assert np.all(np.equal(rev_prod(x,z),i*y))\n",
    "\n",
    "assert np.all(np.equal(rev_prod(y,x),i*z))\n",
    "assert np.all(np.equal(rev_prod(y,z),-i*x))\n",
    "\n",
    "assert np.all(np.equal(rev_prod(z,x),-i*y))\n",
    "assert np.all(np.equal(rev_prod(z,y),i*x))"
   ]
  },
  {
   "cell_type": "markdown",
   "metadata": {},
   "source": [
    "# Ladder pauli products"
   ]
  },
  {
   "cell_type": "code",
   "execution_count": 10,
   "metadata": {},
   "outputs": [],
   "source": [
    "ket_0 = np.array([[1],[0]])\n",
    "ket_1 = np.array([[0],[1]])\n",
    "\n",
    "assert np.all(np.equal(c@ket_0,ket_1))\n",
    "assert np.all(np.equal(a@ket_1,ket_0))\n",
    "\n",
    "assert np.all(np.equal(a@a,0))\n",
    "assert np.all(np.equal(c@c,0))\n",
    "\n",
    "assert np.all(np.equal(prod(a,c),(I+z)/2))\n",
    "assert np.all(np.equal(prod(c,a),(I-z)/2))\n",
    "              \n",
    "assert np.all(np.equal(rev_prod(a,c),(I-z)/2))\n",
    "assert np.all(np.equal(rev_prod(c,a),(I+z)/2))"
   ]
  },
  {
   "cell_type": "code",
   "execution_count": 11,
   "metadata": {},
   "outputs": [],
   "source": [
    "assert np.all(np.equal(prod(c,x),(I-z)/2))\n",
    "assert np.all(np.equal(prod(c,y),(-i*I +i*z)/2))\n",
    "assert np.all(np.equal(prod(c,z),c))\n",
    "assert np.all(np.equal(prod(x,c),(I+z)/2))\n",
    "assert np.all(np.equal(prod(y,c),(-i*I-i*z)/2))\n",
    "assert np.all(np.equal(prod(z,c),-c))\n",
    "              \n",
    "assert np.all(np.equal(prod(a,x),(I+z)/2))\n",
    "assert np.all(np.equal(prod(a,y),(i*I+i*z)/2))\n",
    "assert np.all(np.equal(prod(a,z),-a))\n",
    "assert np.all(np.equal(prod(x,a),(I-z)/2))\n",
    "assert np.all(np.equal(prod(y,a),(i*I-i*z)/2))\n",
    "assert np.all(np.equal(prod(z,a),a))"
   ]
  },
  {
   "cell_type": "code",
   "execution_count": 12,
   "metadata": {},
   "outputs": [],
   "source": [
    "assert np.all(np.equal(rev_prod(x,c),(I-z)/2))\n",
    "assert np.all(np.equal(rev_prod(x,a),(I+z)/2))\n",
    "\n",
    "assert np.all(np.equal(rev_prod(y,c),(-i*I+i*z)/2))\n",
    "assert np.all(np.equal(rev_prod(y,a),(i*I+i*z)/2))\n",
    "\n",
    "assert np.all(np.equal(rev_prod(z,c),c))\n",
    "assert np.all(np.equal(rev_prod(z,a),-a))\n",
    "\n",
    "assert np.all(np.equal(rev_prod(c,x),(I+z)/2))\n",
    "assert np.all(np.equal(rev_prod(c,y),(-i*I-i*z)/2))\n",
    "assert np.all(np.equal(rev_prod(c,z),-c))\n",
    "\n",
    "assert np.all(np.equal(rev_prod(a,x),(I-z)/2))\n",
    "assert np.all(np.equal(rev_prod(a,y),(i*I-i*z)/2))\n",
    "assert np.all(np.equal(rev_prod(a,z),a))"
   ]
  },
  {
   "cell_type": "code",
   "execution_count": null,
   "metadata": {},
   "outputs": [],
   "source": []
  },
  {
   "cell_type": "markdown",
   "metadata": {},
   "source": [
    "# Circuit identities\n",
    "\n",
    "### Single qubit identities\n",
    "\n",
    "$X_1H_2 \\leftrightarrow Z_1H_2 $\n",
    "\n",
    "$H_1X_2 \\leftrightarrow H_1Z_2 $\n",
    "\n",
    "### CNOT identities\n",
    "$Z_1\\text{CNOT}_{1,2} \\leftrightarrow \\text{CNOT}_{1,2}Z_1$"
   ]
  },
  {
   "cell_type": "code",
   "execution_count": 13,
   "metadata": {},
   "outputs": [],
   "source": [
    "assert np.all(np.equal(x@h,h@z))\n",
    "assert np.all(np.equal(h@x,z@h))\n"
   ]
  },
  {
   "cell_type": "code",
   "execution_count": 14,
   "metadata": {},
   "outputs": [
    {
     "name": "stdout",
     "output_type": "stream",
     "text": [
      "[[0 0 1 0]\n",
      " [0 0 0 1]\n",
      " [1 0 0 0]\n",
      " [0 1 0 0]]\n",
      "[[1 0 0 0]\n",
      " [0 1 0 0]\n",
      " [0 0 0 1]\n",
      " [0 0 1 0]]\n",
      "[[0 0 0 1]\n",
      " [0 0 1 0]\n",
      " [1 0 0 0]\n",
      " [0 1 0 0]]\n",
      "[[0 0 1 0]\n",
      " [0 0 0 1]\n",
      " [0 1 0 0]\n",
      " [1 0 0 0]]\n"
     ]
    }
   ],
   "source": [
    "print(np.kron(x,I))\n",
    "print(cnot)\n",
    "print(np.kron(x,I)@cnot)\n",
    "print(cnot@np.kron(x,I))"
   ]
  },
  {
   "cell_type": "code",
   "execution_count": null,
   "metadata": {},
   "outputs": [],
   "source": []
  },
  {
   "cell_type": "code",
   "execution_count": 15,
   "metadata": {},
   "outputs": [
    {
     "name": "stdout",
     "output_type": "stream",
     "text": [
      "[[0 0]\n",
      " [1 0]]\n",
      "[[0.+0.j 0.+0.j]\n",
      " [2.+0.j 0.+0.j]]\n"
     ]
    }
   ],
   "source": [
    "print(c)\n",
    "print(x-np.complex(0,1)*y)"
   ]
  },
  {
   "cell_type": "code",
   "execution_count": null,
   "metadata": {},
   "outputs": [],
   "source": []
  },
  {
   "cell_type": "code",
   "execution_count": null,
   "metadata": {},
   "outputs": [],
   "source": []
  },
  {
   "cell_type": "code",
   "execution_count": 44,
   "metadata": {},
   "outputs": [],
   "source": [
    "import qiskit as qk"
   ]
  },
  {
   "cell_type": "code",
   "execution_count": 77,
   "metadata": {},
   "outputs": [
    {
     "name": "stdout",
     "output_type": "stream",
     "text": [
      "{'1': 1000}\n"
     ]
    }
   ],
   "source": [
    "qb = qk.QuantumRegister(1)\n",
    "cb = qk.ClassicalRegister(1)\n",
    "qc = qk.QuantumCircuit(qb,cb)\n",
    "\n",
    "qc.h(qb[0])\n",
    "qc.x(qb[0])\n",
    "qc.h(qb[0])\n",
    "\n",
    "qc.h(qb[0])\n",
    "qc.rx(np.pi/2,qb[0])\n",
    "qc.y(qb[0])\n",
    "qc.rx(-np.pi/2,qb[0])\n",
    "qc.h(qb[0])\n",
    "\n",
    "\n",
    "qc.measure(qb,cb)\n",
    "job = qk.execute(qc,backend=qk.Aer.get_backend('qasm_simulator'),shots=1000)\n",
    "result = job.result().get_counts(qc)\n",
    "print(result)\n"
   ]
  },
  {
   "cell_type": "code",
   "execution_count": null,
   "metadata": {},
   "outputs": [],
   "source": []
  },
  {
   "cell_type": "code",
   "execution_count": null,
   "metadata": {},
   "outputs": [],
   "source": []
  }
 ],
 "metadata": {
  "kernelspec": {
   "display_name": "Python 3",
   "language": "python",
   "name": "python3"
  },
  "language_info": {
   "codemirror_mode": {
    "name": "ipython",
    "version": 3
   },
   "file_extension": ".py",
   "mimetype": "text/x-python",
   "name": "python",
   "nbconvert_exporter": "python",
   "pygments_lexer": "ipython3",
   "version": "3.7.1"
  }
 },
 "nbformat": 4,
 "nbformat_minor": 4
}
